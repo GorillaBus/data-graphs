{
 "cells": [
  {
   "cell_type": "code",
   "execution_count": null,
   "id": "3dcc02d7-3730-418d-adc9-114fec1b2394",
   "metadata": {},
   "outputs": [],
   "source": [
    "from abc import ABC, abstractmethod\n",
    "from typing import Tuple\n",
    "\n",
    "class IGraph(ABC):\n",
    "\n",
    "    def add_node(self, id: int, lat: float, lon: float):\n",
    "        pass\n",
    "\n",
    "\n",
    "    def add_edge(self, node1_id: int, node2_id: int, weight: float):\n",
    "        pass\n",
    "\n",
    "\n",
    "    def get_node_coordinates(self, node_id: int) -> Tuple[float, float]:\n",
    "        pass\n",
    "\n",
    "    @abstractmethod\n",
    "    def create_graph(self, node_id: int) -> 'IGraph':\n",
    "        pass\n",
    "\n"
   ]
  }
 ],
 "metadata": {
  "kernelspec": {
   "display_name": "Python 3 (ipykernel)",
   "language": "python",
   "name": "python3"
  },
  "language_info": {
   "codemirror_mode": {
    "name": "ipython",
    "version": 3
   },
   "file_extension": ".py",
   "mimetype": "text/x-python",
   "name": "python",
   "nbconvert_exporter": "python",
   "pygments_lexer": "ipython3",
   "version": "3.11.5"
  }
 },
 "nbformat": 4,
 "nbformat_minor": 5
}
