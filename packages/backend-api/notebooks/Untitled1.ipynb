{
 "cells": [
  {
   "cell_type": "code",
   "execution_count": null,
   "id": "c5839857-0bf1-485f-a2a5-8403fad00f0d",
   "metadata": {},
   "outputs": [],
   "source": []
  },
  {
   "cell_type": "code",
   "execution_count": 63,
   "id": "ae481c67-ee48-431b-a684-12cba88aa163",
   "metadata": {},
   "outputs": [
    {
     "name": "stdout",
     "output_type": "stream",
     "text": [
      "Holapepino\n"
     ]
    }
   ],
   "source": [
    "from abc import ABC\n",
    "\n",
    "class IClase(ABC):\n",
    "\n",
    "    def sayHi(self, message: str):\n",
    "        pass\n",
    "\n",
    "    @staticmethod\n",
    "    def create(self) -> IClase:\n",
    "        pass\n",
    "\n",
    "\n",
    "class implementacion(IClase):\n",
    "\n",
    "    def sayHI(self, message: str):\n",
    "        print(\"Hola\"+ message)\n",
    "\n",
    "    @classmethod\n",
    "    def create(cls) -> 'IClase':\n",
    "        return cls()\n",
    "\n",
    "class domainEntity():\n",
    "    def __init__(self, dep: IClase):\n",
    "        self.dependencia = dep\n",
    "\n",
    "    def work(self):\n",
    "        x = self.dependencia.create()\n",
    "        return x\n",
    "\n",
    "d = domainEntity(implementacion)\n",
    "x = d.work()\n",
    "\n",
    "x.sayHI(\"pepino\")"
   ]
  },
  {
   "cell_type": "code",
   "execution_count": null,
   "id": "52bf930c-d3ac-426f-be8c-bd0e639cff2a",
   "metadata": {},
   "outputs": [],
   "source": []
  },
  {
   "cell_type": "code",
   "execution_count": null,
   "id": "ab7ed3ef-f063-46c1-b5d0-ffdcc4830de1",
   "metadata": {},
   "outputs": [],
   "source": []
  }
 ],
 "metadata": {
  "kernelspec": {
   "display_name": "Python 3 (ipykernel)",
   "language": "python",
   "name": "python3"
  },
  "language_info": {
   "codemirror_mode": {
    "name": "ipython",
    "version": 3
   },
   "file_extension": ".py",
   "mimetype": "text/x-python",
   "name": "python",
   "nbconvert_exporter": "python",
   "pygments_lexer": "ipython3",
   "version": "3.11.5"
  }
 },
 "nbformat": 4,
 "nbformat_minor": 5
}
